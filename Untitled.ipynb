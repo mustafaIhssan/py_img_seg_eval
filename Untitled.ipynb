{
 "cells": [
  {
   "cell_type": "code",
   "execution_count": 1,
   "metadata": {
    "collapsed": true
   },
   "outputs": [],
   "source": [
    "from PIL import Image\n",
    "from fnmatch import fnmatch\n",
    "\n",
    "import numpy as np\n",
    "from eval_segm import *\n",
    "import os\n",
    "\n",
    "\n",
    "def read_unlabeled_image_list(image_list_file):\n",
    "\n",
    "    root = image_list_file\n",
    "    pattern = \"*.png\"\n",
    "    images = []\n",
    "    for path, subdirs, files in os.walk(root):\n",
    "        for name in files:\n",
    "            if fnmatch(name, pattern):\n",
    "                images.append(path +\"/\"+ name)\n",
    "\n",
    "    return images\n",
    "\n"
   ]
  },
  {
   "cell_type": "code",
   "execution_count": 2,
   "metadata": {
    "collapsed": false
   },
   "outputs": [],
   "source": [
    "image_list_g = read_unlabeled_image_list(\"gt/\")\n",
    "image_list_p = read_unlabeled_image_list(\"pre/\")"
   ]
  },
  {
   "cell_type": "code",
   "execution_count": 3,
   "metadata": {
    "collapsed": false
   },
   "outputs": [
    {
     "name": "stdout",
     "output_type": "stream",
     "text": [
      "                        Mean   |    Average    STD       Median\n",
      "-----------------------------------------------------------------\n",
      "pixel_accuracy :        % 76.14  |  % 76.14  |  % 22.93  |  % 87.65\n",
      "mean_accuracy  :        % 55.42  |  % 55.42  |  % 07.25  |  % 50.00\n",
      "mean_IU :               % 54.98  |  % 54.98  |  % 07.42  |  % 50.00\n",
      "frequency_weighted_IU : % 75.97  |  % 75.97  |  % 22.76  |  % 87.65\n"
     ]
    }
   ],
   "source": [
    "eval_with_report(image_list_g,image_list_p)"
   ]
  },
  {
   "cell_type": "code",
   "execution_count": 4,
   "metadata": {
    "collapsed": true
   },
   "outputs": [],
   "source": [
    "nu =  76.14"
   ]
  },
  {
   "cell_type": "code",
   "execution_count": 5,
   "metadata": {
    "collapsed": false
   },
   "outputs": [
    {
     "data": {
      "text/plain": [
       "'4'"
      ]
     },
     "execution_count": 5,
     "metadata": {},
     "output_type": "execute_result"
    }
   ],
   "source": [
    "str(nu)[-1]"
   ]
  },
  {
   "cell_type": "code",
   "execution_count": null,
   "metadata": {
    "collapsed": true
   },
   "outputs": [],
   "source": []
  }
 ],
 "metadata": {
  "kernelspec": {
   "display_name": "Python 3",
   "language": "python",
   "name": "python3"
  },
  "language_info": {
   "codemirror_mode": {
    "name": "ipython",
    "version": 3
   },
   "file_extension": ".py",
   "mimetype": "text/x-python",
   "name": "python",
   "nbconvert_exporter": "python",
   "pygments_lexer": "ipython3",
   "version": "3.5.2"
  }
 },
 "nbformat": 4,
 "nbformat_minor": 2
}

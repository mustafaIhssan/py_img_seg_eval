{
 "cells": [
  {
   "cell_type": "code",
   "execution_count": 7,
   "metadata": {
    "collapsed": true
   },
   "outputs": [],
   "source": [
    "from PIL import Image\n",
    "from fnmatch import fnmatch\n",
    "\n",
    "import numpy as np\n",
    "from eval_segm import *\n",
    "import os\n",
    "\n",
    "\n",
    "def read_unlabeled_image_list(image_list_file):\n",
    "\n",
    "    root = image_list_file\n",
    "    pattern = \"*.png\"\n",
    "    images = []\n",
    "    for path, subdirs, files in os.walk(root):\n",
    "        for name in files:\n",
    "            if fnmatch(name, pattern):\n",
    "                images.append(path +\"/\"+ name)\n",
    "\n",
    "    return images\n",
    "\n"
   ]
  },
  {
   "cell_type": "code",
   "execution_count": 8,
   "metadata": {
    "collapsed": false
   },
   "outputs": [],
   "source": [
    "image_list_g = read_unlabeled_image_list(\"gt/\")\n",
    "image_list_p = read_unlabeled_image_list(\"pre/\")"
   ]
  },
  {
   "cell_type": "code",
   "execution_count": 30,
   "metadata": {
    "collapsed": false
   },
   "outputs": [
    {
     "name": "stdout",
     "output_type": "stream",
     "text": [
      "pixel_accuracy :        % 0.76\n",
      "mean_accuracy  :        % 0.55\n",
      "mean_IU :               % 0.55\n",
      "frequency_weighted_IU : % 0.76\n"
     ]
    }
   ],
   "source": [
    "pixel_accuracy_ = []\n",
    "mean_accuracy_ = []\n",
    "mean_IU_ = []\n",
    "frequency_weighted_IU_ = []\n",
    "for i in range(len(image_list_g)):\n",
    "    g = np.array(Image.open(image_list_g[i]))\n",
    "    p = np.array(Image.open(image_list_p[i]))\n",
    "    \n",
    "    pixel_accuracy_.append(pixel_accuracy(g,p))\n",
    "    mean_accuracy_.append(mean_accuracy(g,p))\n",
    "    mean_IU_.append(mean_IU(g,p))\n",
    "    frequency_weighted_IU_.append(frequency_weighted_IU(g,p))\n",
    "    \n",
    "print(\"pixel_accuracy :        %\",  round(np.mean(np.array(pixel_accuracy_       )),2))\n",
    "print(\"mean_accuracy  :        %\",  round(np.mean(np.array(mean_accuracy_        )),2))\n",
    "print(\"mean_IU :               %\",  round(np.mean(np.array(mean_IU_              )),2))\n",
    "print(\"frequency_weighted_IU : %\",  round(np.mean(np.array(frequency_weighted_IU_)),2))"
   ]
  },
  {
   "cell_type": "code",
   "execution_count": 19,
   "metadata": {
    "collapsed": false
   },
   "outputs": [
    {
     "ename": "TypeError",
     "evalue": "'list' object is not callable",
     "output_type": "error",
     "traceback": [
      "\u001b[0;31m---------------------------------------------------------------------------\u001b[0m",
      "\u001b[0;31mTypeError\u001b[0m                                 Traceback (most recent call last)",
      "\u001b[0;32m<ipython-input-19-157a399c3699>\u001b[0m in \u001b[0;36m<module>\u001b[0;34m()\u001b[0m\n\u001b[0;32m----> 1\u001b[0;31m \u001b[0mpixel_accuracy_\u001b[0m\u001b[1;33m(\u001b[0m\u001b[0mg\u001b[0m\u001b[1;33m,\u001b[0m\u001b[0mp\u001b[0m\u001b[1;33m)\u001b[0m\u001b[1;33m\u001b[0m\u001b[0m\n\u001b[0m",
      "\u001b[0;31mTypeError\u001b[0m: 'list' object is not callable"
     ]
    }
   ],
   "source": [
    "pixel_accuracy_(g,p)"
   ]
  },
  {
   "cell_type": "code",
   "execution_count": null,
   "metadata": {
    "collapsed": true
   },
   "outputs": [],
   "source": []
  }
 ],
 "metadata": {
  "kernelspec": {
   "display_name": "Python 3",
   "language": "python",
   "name": "python3"
  },
  "language_info": {
   "codemirror_mode": {
    "name": "ipython",
    "version": 3
   },
   "file_extension": ".py",
   "mimetype": "text/x-python",
   "name": "python",
   "nbconvert_exporter": "python",
   "pygments_lexer": "ipython3",
   "version": "3.5.2"
  }
 },
 "nbformat": 4,
 "nbformat_minor": 2
}
